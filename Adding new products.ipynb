{
 "cells": [
  {
   "cell_type": "code",
   "execution_count": 3,
   "id": "1bf29f17",
   "metadata": {},
   "outputs": [],
   "source": [
    "import json\n",
    "fd = open(\"record.json\",'r')\n",
    "r = fd.read()\n",
    "fd.close()\n",
    "\n",
    "record = json.loads(r)"
   ]
  },
  {
   "cell_type": "code",
   "execution_count": 4,
   "id": "12c8aa63",
   "metadata": {},
   "outputs": [],
   "source": [
    "record = {}"
   ]
  },
  {
   "cell_type": "code",
   "execution_count": 92,
   "id": "3a9f8737",
   "metadata": {},
   "outputs": [
    {
     "name": "stdout",
     "output_type": "stream",
     "text": [
      "Enter product id:1030\n",
      "Enter product name:Webcam\n",
      "Enter product price:5000\n",
      "Enter product quantity:600\n"
     ]
    }
   ],
   "source": [
    "prod_id = str(input(\"Enter product id:\"))\n",
    "name = str(input(\"Enter product name:\"))\n",
    "pr = int(input(\"Enter product price:\"))\n",
    "qn = int(input(\"Enter product quantity:\"))\n",
    "record[prod_id] = {'name':name, 'pr':pr, 'qn':qn}"
   ]
  },
  {
   "cell_type": "code",
   "execution_count": 98,
   "id": "e044abf7",
   "metadata": {},
   "outputs": [
    {
     "name": "stdout",
     "output_type": "stream",
     "text": [
      "Enter product id:1001\n",
      "Enter name:phone\n",
      "Enter price:25000\n",
      "Enter quantity:500\n"
     ]
    }
   ],
   "source": [
    "# for key in record.keys():\n",
    "#     for value in record.values():\n",
    "prod_idd = str(input(\"Enter product id:\"))\n",
    "name = str(input(\"Enter name:\"))\n",
    "pr = int(input(\"Enter price:\"))\n",
    "qnn = int(input(\"Enter quantity:\"))\n",
    "# record[prod_idd] = {'name': name, 'pr': pr, 'qnn': qn}\n",
    "for key in record.keys():\n",
    "    for value in record.values():\n",
    "        if prod_id == prod_idd:\n",
    "            qn = qn + qnn\n",
    "            record[prod_idd] = {'name': name, 'pr': pr, 'qnn': qn}\n",
    "        else:\n",
    "            record[prod_idd] = {'name': name, 'pr': pr, 'qnn': qnn}"
   ]
  },
  {
   "cell_type": "code",
   "execution_count": 99,
   "id": "b78189fa",
   "metadata": {},
   "outputs": [],
   "source": [
    "js = json.dumps(record)\n",
    "\n",
    "fd = open(\"record.json\",'w')\n",
    "fd.write(js)\n",
    "fd.close()"
   ]
  },
  {
   "cell_type": "code",
   "execution_count": 100,
   "id": "042e79d7",
   "metadata": {},
   "outputs": [
    {
     "data": {
      "text/plain": [
       "{'1001': {'name': 'phone', 'pr': 25000, 'qnn': 500},\n",
       " '1002': {'name': 'tv', 'pr': 85000, 'qn': 500},\n",
       " '1003': {'name': 'laptop', 'pr': 70000, 'qn': 500},\n",
       " '1004': {'name': 'pc', 'pr': 75000, 'qn': 500},\n",
       " '1005': {'name': 'fridge', 'pr': 100000, 'qn': 500},\n",
       " '1006': {'name': 'ac', 'pr': 45000, 'qn': 500},\n",
       " '1007': {'name': 'dishwasher', 'pr': 45000, 'qn': 600},\n",
       " '1008': {'name': 'washing machine', 'pr': 60000, 'qn': 500},\n",
       " '1009': {'name': 'heater', 'pr': 5000, 'qn': 400},\n",
       " '1010': {'name': 'pendrive', 'pr': 2000, 'qn': 900},\n",
       " '1011': {'name': 'oven', 'pr': 42000, 'qn': 500},\n",
       " '1012': {'name': 'microwave', 'pr': 45000, 'qn': 500},\n",
       " '1013': {'name': 'printer', 'pr': 9000, 'qn': 500},\n",
       " '1014': {'name': 'scanner', 'pr': 5000, 'qn': 200},\n",
       " '1015': {'name': 'usb driver', 'pr': 4000, 'qn': 200},\n",
       " '1016': {'name': 'external hard drive', 'pr': 6000, 'qn': 500},\n",
       " '1017': {'name': 'ipad', 'pr': 50000, 'qn': 500},\n",
       " '1018': {'name': 'plotter', 'pr': 5000, 'qn': 500},\n",
       " '1019': {'name': 'projector', 'pr': 6000, 'qn': 500},\n",
       " '1020': {'name': 'fan', 'pr': 5000, 'qn': 40},\n",
       " '1021': {'name': 'Microphone', 'pr': 4000, 'qn': 500},\n",
       " '1022': {'name': 'Mixer', 'pr': 4000, 'qn': 500},\n",
       " '1023': {'name': 'Laser printer', 'pr': 6000, 'qn': 500},\n",
       " '1024': {'name': 'juicer', 'pr': 6000, 'qn': 500},\n",
       " '1025': {'name': 'Iron', 'pr': 500, 'qn': 600},\n",
       " '1026': {'name': 'Monitor', 'pr': 4000, 'qn': 500},\n",
       " '1027': {'name': 'Tablet', 'pr': 5000, 'qn': 500},\n",
       " '1028': {'name': 'Torch', 'pr': 500, 'qn': 600},\n",
       " '1029': {'name': 'Vacuum cleaner', 'pr': 10000, 'qn': 500},\n",
       " '1030': {'name': 'Webcam', 'pr': 5000, 'qn': 600}}"
      ]
     },
     "execution_count": 100,
     "metadata": {},
     "output_type": "execute_result"
    }
   ],
   "source": [
    "record"
   ]
  },
  {
   "cell_type": "code",
   "execution_count": null,
   "id": "f27bd25c",
   "metadata": {},
   "outputs": [],
   "source": []
  }
 ],
 "metadata": {
  "kernelspec": {
   "display_name": "Python 3",
   "language": "python",
   "name": "python3"
  },
  "language_info": {
   "codemirror_mode": {
    "name": "ipython",
    "version": 3
   },
   "file_extension": ".py",
   "mimetype": "text/x-python",
   "name": "python",
   "nbconvert_exporter": "python",
   "pygments_lexer": "ipython3",
   "version": "3.8.8"
  }
 },
 "nbformat": 4,
 "nbformat_minor": 5
}
