{
 "cells": [
  {
   "cell_type": "code",
   "execution_count": 2,
   "id": "83f7f8b0",
   "metadata": {},
   "outputs": [],
   "source": [
    "import json\n",
    "import time\n",
    "fd = open(\"record.json\",'r')\n",
    "r = fd.read()\n",
    "fd.close()\n",
    "\n",
    "records = json.loads(r)"
   ]
  },
  {
   "cell_type": "code",
   "execution_count": null,
   "id": "3c5dd273",
   "metadata": {},
   "outputs": [],
   "source": [
    "# Purchase products\n",
    "\n",
    "product_list_id=[]\n",
    "quantity_list=[] \n",
    "Bill_list=[]\n",
    "while True:\n",
    "    product_id = str(input(\"Enter product id:\")) \n",
    "    quantity = int(input(\"Enter quantity:\"))\n",
    "    print(\"Product: \", records[product_id]['name'])\n",
    "    print(\"Price: \", records[product_id]['pr'])\n",
    "    print(\"Billing Amount: \", records[product_id]['pr'] *quantity )\n",
    "    if(records[product_id]['qn']>0):\n",
    "        records[product_id]['qn'] = records[product_id]['qn'] - quantity\n",
    "    else:\n",
    "        print(\"product not available\")\n",
    "    product_list_id.append(product_id)\n",
    "    quantity_list.append(quantity)\n",
    "    Bill_list.append(records[product_id]['pr'] *quantity)\n",
    "    user_response= (input(\"Add on product press 1 else press 0 :\"))\n",
    "    if (user_response=='0'):\n",
    "        break"
   ]
  },
  {
   "cell_type": "code",
   "execution_count": null,
   "id": "229b878d",
   "metadata": {},
   "outputs": [],
   "source": [
    "sum=0\n",
    "\n",
    "for i in range(len(product_list_id)):\n",
    "    if (i==0):\n",
    "        print(\"**************************************\")\n",
    "        print(\"Product Name |\",\"Quantity |\",\"Price\")\n",
    "        print(\"_____________________________________\")\n",
    "    print(\" \",i+1,\"->\",records[product_list_id[i]]['name'],records[product_list_id[i]]['qn'],\"  \",quantity_list[i],\"  \",Bill_list[i])\n",
    "    sum+=Bill_list[i]\n",
    "print(\"-------------------------------------\")\n",
    "print(\"Your total bill is:\",sum,\"₹\")\n",
    "print(\"Date:\",time.ctime())\n",
    "print(\"**************************************\")"
   ]
  },
  {
   "cell_type": "code",
   "execution_count": null,
   "id": "608a0e82",
   "metadata": {},
   "outputs": [],
   "source": [
    "# Update Inventory after purchase\n",
    "js = json.dumps(records)\n",
    "fd = open(\"record.json\",'w')\n",
    "fd.write(js)\n",
    "fd.close()"
   ]
  },
  {
   "cell_type": "code",
   "execution_count": 9,
   "id": "50d2b109",
   "metadata": {},
   "outputs": [
    {
     "name": "stdout",
     "output_type": "stream",
     "text": [
      "current day:enter 0 new day enter 1 :0\n",
      "Current day\n"
     ]
    }
   ],
   "source": [
    "#sales\n",
    "sales = {}\n",
    "num_of_sale = 0\n",
    "day=[\"Current day\",\"newday\"]\n",
    "if(int(input(\"current day:enter 0 new day enter 1 :\"))==0):\n",
    "    print(day[0])\n",
    "    sales = sales\n",
    "    num_of_sale = num_of_sale\n",
    "else:\n",
    "    print(day[1])\n",
    "    sales = {}    #created a empty dictionary per day for know daily data\n",
    "    num_of_sale = 0"
   ]
  },
  {
   "cell_type": "code",
   "execution_count": 11,
   "id": "c466f9d1",
   "metadata": {},
   "outputs": [
    {
     "name": "stdout",
     "output_type": "stream",
     "text": [
      "number of sale today is: 0\n"
     ]
    }
   ],
   "source": [
    "count=0\n",
    "product_list_id = []\n",
    "for i in range(len(product_list_id)):\n",
    "    sales[i+num_of_sale]={'prod_id':product_list_id[i] ,'qn': quantity,'amount':Bill_list[i]}\n",
    "    count += 1\n",
    "num_of_sale += count\n",
    "print(\"number of sale today is:\",num_of_sale)"
   ]
  },
  {
   "cell_type": "code",
   "execution_count": 12,
   "id": "8f1c24bd",
   "metadata": {},
   "outputs": [],
   "source": [
    "sale = json.dumps(sales)\n",
    "\n",
    "fd = open(\"sales.json\",'w')\n",
    "fd.write(sale)\n",
    "fd.close()"
   ]
  },
  {
   "cell_type": "code",
   "execution_count": 13,
   "id": "90ab3917",
   "metadata": {},
   "outputs": [
    {
     "data": {
      "text/plain": [
       "{}"
      ]
     },
     "execution_count": 13,
     "metadata": {},
     "output_type": "execute_result"
    }
   ],
   "source": [
    "sales"
   ]
  },
  {
   "cell_type": "code",
   "execution_count": null,
   "id": "621a8bdd",
   "metadata": {},
   "outputs": [],
   "source": []
  }
 ],
 "metadata": {
  "kernelspec": {
   "display_name": "Python 3",
   "language": "python",
   "name": "python3"
  },
  "language_info": {
   "codemirror_mode": {
    "name": "ipython",
    "version": 3
   },
   "file_extension": ".py",
   "mimetype": "text/x-python",
   "name": "python",
   "nbconvert_exporter": "python",
   "pygments_lexer": "ipython3",
   "version": "3.8.8"
  }
 },
 "nbformat": 4,
 "nbformat_minor": 5
}
